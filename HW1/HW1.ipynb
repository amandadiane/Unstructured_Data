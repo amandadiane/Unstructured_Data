{
 "cells": [
  {
   "cell_type": "markdown",
   "metadata": {},
   "source": [
    "Name: Amanda Baker\n",
    "\n",
    "Andrew ID: adbaker\n",
    "\n",
    "Collaborators: Python Standard Library, Spacy Demo by Prof. George Chen, Stack Overflow, MatPlotLib.org,\n",
    "    Codereview.stackexchange.com\n",
    "\n",
    "Reminder: you should not be sharing code."
   ]
  },
  {
   "cell_type": "markdown",
   "metadata": {},
   "source": [
    "### Instructions\n",
    "1. Fill in your name, Andrew ID, and collaborators above.\n",
    "2. Fill in the code/text blocks to answer each question.\n",
    "3. Do *not* change any of the existing code provided.\n",
    "4. Run the entire notebook *before* submitting it on Canvas to make sure that the code actually runs without errors. (**Important**: Any code cells that you have entered code for but did not actually execute will be disregarded, so please be sure to actually run your code first and make sure it runs without errors! We may re-run a subset of your code for grading purposes.)\n",
    "5. Be careful about where you save data for use with this Jupyter notebook (more details on this later)."
   ]
  },
  {
   "cell_type": "markdown",
   "metadata": {},
   "source": [
    "### [Problem 1] The Distribution of Words in a Human Language: Zipf's Law [45 pts]\n",
    "\n",
    "In this problem, you will be looking at a phenomenon of \"natural languages\" (i.e., human languages, such as English). As it turns out, when we look at the distribution of words in a different human languages, the distribution roughly follows what's called *Zipf's law* ([Wikipedia](https://en.wikipedia.org/wiki/Zipf%27s_law)).\n",
    "\n",
    "*Zipf's law* states that given a large sample of words used, any word's frequency is inversely proportional to its rank in the frequency table (the word with rank 1 is the most frequently occurring word, the word with rank 2 is the second most frequently occurring word, etc). In this problem, you are going to test Zipf's law on a real dataset and explore some of its properties.\n",
    "\n",
    "This problem assumes you have already installed the `spaCy` package ([https://spacy.io](https://spacy.io)). Instructions for installing this are part of the tutorial file \"`Anaconda, Jupyter, and spaCy setup tutorial.pdf`\". You can find how to access lemmatized tokens using `spaCy` by looking at the `spaCy` demo Jupyter notebook from lecture.\n",
    "\n",
    "Note: For this problem, you don't actually need `spaCy`'s named entity recognition, grammatical parsing, or part-of-speech tagging. Turning these elements off when you instantiate the nlp object can substantially speed up your code.  To make sure these are off when instantiating the nlp object, call: \n",
    "\n",
    "`\n",
    "nlp = spacy.load('en', disable=['ner', 'parser', 'tagger'])\n",
    "`\n",
    "\n",
    "\n",
    "(a) [5 pts] Read the data files.\n",
    "\n",
    "The dataset is a collection of the 100 most popular books downloaded from Gutenburg Project ([https://www.gutenberg.org/browse/scores/top](https://www.gutenberg.org/browse/scores/top)). Each file contains the text of a book. Now read all the texts from disk. This will be the corpus in this problem.\n",
    "\n",
    "Note: Please DO NOT change the folder name or the path, and make sure you use a relative path (e.g. './HW1_Dataset/*filename*) when reading the files. When grading your homework, we will put your Jupyter notebook file and the dataset in the same folder, and run your code. **You will receive 0 points for this problem if your code fails to load the data.**\n",
    "\n",
    "Hint: To list all files that match a certain pattern, you can use the `glob` package. Here's an example usage:\n",
    "\n",
    "`\n",
    "import glob\n",
    "print(glob.glob('./HW1_Dataset/*.txt'))\n",
    "`\n",
    "\n",
    "Hint: When debugging your code, you may want to first make sure your code runs on a few of the books rather than all 100 (for example, you can start by only having 3 of the text files in `HW1_Dataset`). Once you're confident that your solution is correct on a few text files, then run on all of them! This is a standard approach to debugging code that is meant to handle large datasets."
   ]
  },
  {
   "cell_type": "code",
   "execution_count": 1,
   "metadata": {},
   "outputs": [],
   "source": [
    "import spacy"
   ]
  },
  {
   "cell_type": "code",
   "execution_count": 2,
   "metadata": {},
   "outputs": [
    {
     "data": {
      "text/plain": [
       "'all_text = \\'\\'\\nfor filename in glob.glob(\\'./HW1_Dataset/*.txt\\'):\\n    text = open(filename, encoding=\"utf8\").read()\\n    all_text += text'"
      ]
     },
     "execution_count": 2,
     "metadata": {},
     "output_type": "execute_result"
    }
   ],
   "source": [
    "import en_core_web_sm\n",
    "import glob\n",
    "import re\n",
    "nlp = spacy.load('en_core_web_sm')\n",
    "\n",
    "# test file - using throughout problem 1 due to memory limitations\n",
    "text = open('./HW1_Dataset/Metamorphosis by Franz Kafka (483).txt', encoding=\"utf8\").read()\n",
    "\n",
    "# all files - not using due to memory limitations\n",
    "'''all_text = ''\n",
    "for filename in glob.glob('./HW1_Dataset/*.txt'):\n",
    "    text = open(filename, encoding=\"utf8\").read()\n",
    "    all_text += text'''\n"
   ]
  },
  {
   "cell_type": "markdown",
   "metadata": {},
   "source": [
    "(b) [15 pts] Build the frequency table. Specifically, complete the following three tasks:\n",
    "\n",
    "  1. Process the text by separating and lemmatizing the words.\n",
    "  2. Then count the number of times each word appears in the corpus and build a frequency table. (In particular, use raw counts as the \"frequency\"--do not divide by the total number of words in the corpus.)\n",
    "  3. Sort the table and print the top 50 most frequent words, along with their frequencies and ranks. Don't worry about ties (for example, if multiple things have the same frequency, it's fine if your solution breaks ties arbitrarily in the sorting).\n",
    "\n",
    "Note: When counting the words, only include words (tokens) that consist of alphabetic letters (a-z and A-Z). You can do this with what's called a *regular expression*. For example, to check whether the words \"will.i.am\" or \"Tesla\" are alphabetic, you would do the following:\n",
    "\n",
    "`\n",
    "import re  # regular expression package\n",
    "if re.match('[a-zA-Z]+$', 'will.i.am'):\n",
    "    print('will.i.am consists only of alphabetic letters!')\n",
    "if re.match('[a-zA-Z]+$', 'Tesla'):\n",
    "    print('tesla consists only of alphabetic letters!')\n",
    "`"
   ]
  },
  {
   "cell_type": "code",
   "execution_count": 3,
   "metadata": {},
   "outputs": [
    {
     "name": "stdout",
     "output_type": "stream",
     "text": [
      "1.  the:  1265\n",
      "2.  to:  827\n",
      "3.  and:  680\n",
      "4.  of:  541\n",
      "5.  his:  524\n",
      "6.  he:  508\n",
      "7.  was:  412\n",
      "8.  in:  395\n",
      "9.  had:  352\n",
      "10.  it:  343\n",
      "11.  that:  343\n",
      "12.  a:  341\n",
      "13.  Gregor:  298\n",
      "14.  as:  243\n",
      "15.  with:  241\n",
      "16.  not:  200\n",
      "17.  would:  189\n",
      "18.  him:  188\n",
      "19.  her:  183\n",
      "20.  for:  180\n",
      "21.  she:  175\n",
      "22.  at:  174\n",
      "23.  on:  160\n",
      "24.  all:  148\n",
      "25.  but:  143\n",
      "26.  they:  140\n",
      "27.  be:  136\n",
      "28.  from:  131\n",
      "29.  room:  131\n",
      "30.  could:  128\n",
      "31.  this:  120\n",
      "32.  out:  114\n",
      "33.  or:  113\n",
      "34.  have:  113\n",
      "35.  you:  106\n",
      "36.  been:  101\n",
      "37.  sister:  101\n",
      "38.  father:  99\n",
      "39.  there:  98\n",
      "40.  if:  92\n",
      "41.  I:  90\n",
      "42.  himself:  87\n",
      "43.  door:  87\n",
      "44.  He:  85\n",
      "45.  mother:  85\n",
      "46.  Project:  84\n",
      "47.  Gutenberg:  84\n",
      "48.  so:  84\n",
      "49.  up:  84\n",
      "50.  back:  82\n"
     ]
    }
   ],
   "source": [
    "from collections import Counter\n",
    "from operator import itemgetter\n",
    "\n",
    "# update text to all_text when ready to run full version of code\n",
    "parsed_text = nlp(text) \n",
    "word_freq = Counter()\n",
    "\n",
    "for token in parsed_text:\n",
    "    if re.match('[a-zA-Z]+$', str(token)):\n",
    "        original_token_text = token.orth_\n",
    "        word_freq[original_token_text] = word_freq[original_token_text] + 1\n",
    "            \n",
    "sorted_word_freq = sorted(word_freq.items(), reverse=True, key=itemgetter(1))\n",
    "i = 1\n",
    "for word, count in sorted_word_freq[:50]:\n",
    "    print('{}.  {}:  {}'.format(i, word, count))\n",
    "    i += 1"
   ]
  },
  {
   "cell_type": "markdown",
   "metadata": {},
   "source": [
    "(c) [10 pts] Visualize the frequency table by plotting a **raw scatter plot** (put frequency as the y-axis and rank as the x-axis), and a **log-log plot** (use logarithmic scales on both the x- and y- axes). Note that this should be for all words and not only the top 50. As before, for the ranks, do not worry about ties, i.e., break ties arbitrarily."
   ]
  },
  {
   "cell_type": "code",
   "execution_count": 4,
   "metadata": {},
   "outputs": [
    {
     "data": {
      "image/png": "[encoded data removed]",
      "text/plain": [
       "<Figure size 432x288 with 1 Axes>"
      ]
     },
     "metadata": {},
     "output_type": "display_data"
    }
   ],
   "source": [
    "# Raw scatter plot\n",
    "%matplotlib inline\n",
    "import matplotlib.pyplot as plt\n",
    "plt.style.use('ggplot') \n",
    "\n",
    "x = range(0, len(sorted_word_freq))\n",
    "y = [count for word, count in sorted_word_freq]\n",
    "plt.title('Raw Word Freqencies')\n",
    "plt.xlabel('Rank')\n",
    "plt.ylabel('Frequency')\n",
    "plt.scatter(x, y, color = '#69D7E1')\n",
    "plt.show()"
   ]
  },
  {
   "cell_type": "code",
   "execution_count": 5,
   "metadata": {
    "scrolled": false
   },
   "outputs": [
    {
     "data": {
      "image/png": "[encoded data removed]",
      "text/plain": [
       "<Figure size 432x288 with 1 Axes>"
      ]
     },
     "metadata": {
      "needs_background": "light"
     },
     "output_type": "display_data"
    }
   ],
   "source": [
    "# Log-log plot\n",
    "\n",
    "x = range(0, len(sorted_word_freq))\n",
    "y = [count for word, count in sorted_word_freq]\n",
    "plt.title('Zipf\\'s Law')\n",
    "plt.xlabel('Log(Rank)')\n",
    "plt.ylabel('Log(Frequency)')\n",
    "plt.loglog(x, y, color = '#5A3FBD')\n",
    "plt.show()"
   ]
  },
  {
   "cell_type": "markdown",
   "metadata": {},
   "source": [
    "(d) [15 pts] Explore the frequency table: Zipf's law states that term frequency is governed by a power low, i.e. the relationship between term frequency and rank can be approximated by $f(r) = cr^{-1}$, where $f(r)$ is the frequency of the term at rank $r$, $r$ is the rank of a term, and $c$ is a constant and is approximately 0.1*(corpus size) for English. \n",
    "\n",
    "Answer following questions:\n",
    "\n",
    "- What do you observe in the log-log plot above? Is this consist with the power law?"
   ]
  },
  {
   "cell_type": "markdown",
   "metadata": {},
   "source": [
    "*** Based on the log-log plot above, the observations from this data set are consitent with Zipf's law, which is to say that the rule that for a decrease in one frequency rank position follows the Zipf's law. ***"
   ]
  },
  {
   "cell_type": "markdown",
   "metadata": {},
   "source": [
    "- Think of the corpus as a (large) unigram bag of words. Following the analogy from lecture, imagine drawing a single word from this big bag (note that we are assuming that we've lemmatized the words and also filtered out non-alphanumeric words). What is the probability of drawing one of the 4 most frequent words? What is the probability of drawing one of the 50 most frequent words? Answer these two questions using code rather than just entering in the final answers as numbers."
   ]
  },
  {
   "cell_type": "code",
   "execution_count": 6,
   "metadata": {},
   "outputs": [
    {
     "name": "stdout",
     "output_type": "stream",
     "text": [
      "Probability of drawing one of the 4 most frequent words:  0.132\n",
      "Probability of drawing one of the 50 most frequent words:  0.464\n"
     ]
    }
   ],
   "source": [
    "total_words = [count for word, count in sorted_word_freq]\n",
    "\n",
    "most_freq_4 = [count for word, count in sorted_word_freq[:4]]\n",
    "print('Probability of drawing one of the 4 most frequent words: ', round((sum(most_freq_4)/sum(total_words)), 3))\n",
    "\n",
    "most_freq_50 = [count for word, count in sorted_word_freq[:50]]\n",
    "print('Probability of drawing one of the 50 most frequent words: ', round((sum(most_freq_50)/sum(total_words)), 3))"
   ]
  },
  {
   "cell_type": "markdown",
   "metadata": {},
   "source": [
    "- What proportion of the words occur only once? What proportion of the words occur fewer than 10 times?"
   ]
  },
  {
   "cell_type": "code",
   "execution_count": 7,
   "metadata": {
    "scrolled": true
   },
   "outputs": [
    {
     "name": "stdout",
     "output_type": "stream",
     "text": [
      "Occur only once:  0.065\n",
      "Occur fewer than 10 times:  0.245\n"
     ]
    }
   ],
   "source": [
    "only_one_word = [count for word, count in sorted_word_freq if count == 1]\n",
    "print('Occur only once: ', round((sum(only_one_word)/sum(total_words)), 3))\n",
    "\n",
    "less_than_10 = [count for word, count in sorted_word_freq if count < 10]\n",
    "print('Occur fewer than 10 times: ', round((sum(less_than_10)/sum(total_words)), 3))"
   ]
  },
  {
   "cell_type": "markdown",
   "metadata": {},
   "source": [
    "### [Problem 2] Entity Recognition and Pointwise Mutual Information (PMI) [50 pts]\n",
    "By using the entity recognition system in `spaCy`, let's identify named entities from newspaper articles. You'll be using Reuters corpus which contains more than ten thousand newspaper articles. To run the code below, you need to download the Reuters dataset. To do so, in a terminal/command line (recall that you can open a terminal from Jupyter's webpage that shows all the files, which by default is [http://localhost:8888/tree](http://localhost:8888/tree)), start up Python and enter:\n",
    "\n",
    "`\n",
    "import nltk\n",
    "nltk.download('reuters')\n",
    "`\n",
    "\n",
    "Then proceed to the problem subparts below.\n",
    "\n",
    "Note that in this problem you will need named entity recognition but not grammatical parsing or the part-of-speech tagging. Hence, you will want to instantiate the nlp object by calling:\n",
    "\n",
    "`\n",
    "nlp = spacy.load('en', disable=['parser', 'tagger'])\n",
    "`\n"
   ]
  },
  {
   "cell_type": "markdown",
   "metadata": {},
   "source": [
    "(a) [15 pts] Draw a bar chart in which one of the axes shows entity labels and the other shows the frequency of the corresponding label. Use the variables `reuters_nlp` and `label_counter` provided in the code below."
   ]
  },
  {
   "cell_type": "code",
   "execution_count": 8,
   "metadata": {
    "scrolled": false
   },
   "outputs": [
    {
     "data": {
      "text/plain": [
       "10788"
      ]
     },
     "execution_count": 8,
     "metadata": {},
     "output_type": "execute_result"
    }
   ],
   "source": [
    "import matplotlib.pyplot as plt\n",
    "from collections import Counter\n",
    "from nltk.corpus import reuters\n",
    "from nltk.corpus import stopwords\n",
    "import numpy as np\n",
    "import re\n",
    "import spacy\n",
    "nlp = spacy.load('en', disable=['parser', 'tagger'])\n",
    "reuters_fileids = reuters.fileids()  \n",
    "reuters_nlp = [nlp(re.sub('\\s+',' ', reuters.raw(i)).strip()) for i in reuters_fileids]\n",
    "len(reuters_nlp)"
   ]
  },
  {
   "cell_type": "code",
   "execution_count": 9,
   "metadata": {
    "scrolled": true
   },
   "outputs": [
    {
     "data": {
      "image/png": "[encoded data removed]",
      "text/plain": [
       "<Figure size 720x288 with 1 Axes>"
      ]
     },
     "metadata": {},
     "output_type": "display_data"
    }
   ],
   "source": [
    "from operator import itemgetter\n",
    "label_counter = Counter()\n",
    "\n",
    "for doc in reuters_nlp:\n",
    "    for token in doc:\n",
    "        original_token_ent = token.ent_type_\n",
    "        label_counter[original_token_ent] += 1\n",
    "\n",
    "token_counts = sorted(label_counter.items(), reverse=True, key=itemgetter(1))\n",
    "\n",
    "x = [ent for ent, count in token_counts if ent != '']\n",
    "y = [count for ent, count in token_counts if ent != '']\n",
    "\n",
    "plt.style.use('ggplot') \n",
    "plt.figure(figsize=(10,4))\n",
    "plt.bar(x, y, width = .8, color = '#69D7E1')\n",
    "plt.xticks(range(0, len(y)), x, rotation = 90)\n",
    "plt.suptitle('Reuters Entity Label Counts', fontsize = 14)\n",
    "plt.xlabel('Entity Labels', fontsize = 12)\n",
    "plt.ylabel('Counts', fontsize = 12)\n",
    "plt.show()"
   ]
  },
  {
   "cell_type": "markdown",
   "metadata": {},
   "source": [
    "(b) [15 pts] Now list the top 10 most frequently occured entities (entity text and the number of occurence) with labels `ORG` (organization) and `GPE` (countries, cities, states) respectively.\n",
    "\n",
    "Hint: Here, when counting the frequency, we need to count how many articles have an entity with the desired property. For every article, we add 1 if the article has the entity and 0 otherwise.  List filtering (as in Recitation 1) will be helpful here."
   ]
  },
  {
   "cell_type": "code",
   "execution_count": 10,
   "metadata": {},
   "outputs": [
    {
     "name": "stdout",
     "output_type": "stream",
     "text": [
      "Top 10 Most Frequently Occurring ORG Entities\n",
      "\n",
      "1.  Avg:  583\n",
      "2.  Reuters:  445\n",
      "3.  the Securities and Exchange Commission:  244\n",
      "4.  EC:  240\n",
      "5.  USDA:  226\n",
      "6.  NET:  203\n",
      "7.  Treasury:  157\n",
      "8.  FED:  141\n",
      "9.  Congress:  138\n",
      "10.  Fed:  135\n",
      "\n",
      "Top 10 Most Frequently Occurring GPE Entities\n",
      "\n",
      "1.  U.S.:  1666\n",
      "2.  Shr:  690\n",
      "3.  Japan:  536\n",
      "4.  the United States:  345\n",
      "5.  U.K.:  309\n",
      "6.  Canada:  243\n",
      "7.  New York:  239\n",
      "8.  West Germany:  232\n",
      "9.  Washington:  230\n",
      "10.  JAPAN:  221\n"
     ]
    }
   ],
   "source": [
    "# I interpretted this question as listing out the top 10 entities that ocurred in the most documents,\n",
    "# regardless of the number of times the entity occurred\n",
    "\n",
    "org_word_counter = Counter()\n",
    "gpe_word_counter = Counter()\n",
    "            \n",
    "for doc in reuters_nlp:\n",
    "    track_doc_entity = []\n",
    "    for entity in doc.ents:\n",
    "        if (entity.label_ is 'ORG') and (entity.text not in track_doc_entity):\n",
    "            org_word_counter[entity.text] += 1\n",
    "            track_doc_entity.append(entity.text)\n",
    "            \n",
    "for doc in reuters_nlp:\n",
    "    track_doc_entity = []\n",
    "    for entity in doc.ents:\n",
    "        if (entity.label_ is 'GPE') and (entity.text not in track_doc_entity):\n",
    "            gpe_word_counter[entity.text] += 1\n",
    "            track_doc_entity.append(entity.text)\n",
    "            \n",
    "sorted_org_counts = sorted(org_word_counter.items(), reverse=True, key=itemgetter(1))\n",
    "sorted_gpe_counts = sorted(gpe_word_counter.items(), reverse=True, key=itemgetter(1))\n",
    "\n",
    "i = 1\n",
    "print('Top 10 Most Frequently Occurring ORG Entities\\n')\n",
    "for word, count in sorted_org_counts[:10]:\n",
    "    print('{}.  {}:  {}'.format(i, word, count))\n",
    "    i += 1\n",
    "    \n",
    "i = 1\n",
    "print('\\nTop 10 Most Frequently Occurring GPE Entities\\n')\n",
    "for word, count in sorted_gpe_counts[:10]:\n",
    "    print('{}.  {}:  {}'.format(i, word, count))\n",
    "    i += 1"
   ]
  },
  {
   "cell_type": "markdown",
   "metadata": {},
   "source": [
    "(c) [20 pts] Give the top 50 `GPE` (countries, cities, states) entities that have the highest Pointwise Mutual Information (PMI) values with regard to the `ORG` (organization) entity **'opec'** (your list of this top 50 should be ranked in decreasing PMI value). Did you find any unexpected results? If so, why do you think it happened? If you found some of the results to be unsurprisingly, how come? \n",
    "\n",
    "Hint 1: As in lecture, when computing PMI, we will compute probabilities by counting the number of documents where entities occur or co-occur.  For example, $P('opec') = \\frac{number \\ \\ of \\ \\ documents \\ \\ containing \\ \\ 'opec'}{number \\ \\ of \\ \\ documents}$.  \n",
    "\n",
    "Hint 2: To compute this ranking, you do not have to compute the full PMI equation."
   ]
  },
  {
   "cell_type": "code",
   "execution_count": 11,
   "metadata": {},
   "outputs": [
    {
     "name": "stdout",
     "output_type": "stream",
     "text": [
      "\n",
      "Top 50 GPE Entities with Highest PMI in Regard to OPEC:\n",
      "\n",
      "1.  United:  8.89\n",
      "2.  Emirates:  7.91\n",
      "3.  Visnews:  7.19\n",
      "4.  CERA:  7.19\n",
      "5.  I.E.:  6.72\n",
      "6.  Brent:  6.24\n",
      "7.  Vienna:  6.11\n",
      "8.  Libya:  5.93\n",
      "9.  Dubai:  5.92\n",
      "10.  Nigeria:  5.83\n",
      "11.  Tripoli:  5.81\n",
      "12.  Nazir:  5.81\n",
      "13.  Qatar:  5.72\n",
      "14.  Yanbu:  5.69\n",
      "15.  Lagos:  5.64\n",
      "16.  QUOTA:  5.46\n",
      "17.  Kuwait:  5.33\n",
      "18.  Balao:  5.28\n",
      "19.  Lichtblau:  5.11\n",
      "20.  Minas:  5.11\n",
      "21.  Duri:  5.11\n",
      "22.  BAHRAIN:  5.11\n",
      "23.  Doha:  5.11\n",
      "24.  North:  5.11\n",
      "25.  Norway:  5.11\n",
      "26.  Riyadh:  5.07\n",
      "27.  Jamaica:  5.05\n",
      "28.  Iceland:  4.96\n",
      "29.  UAE:  4.94\n",
      "30.  Ecuador:  4.84\n",
      "31.  Egypt:  4.76\n",
      "32.  KUWAIT:  4.73\n",
      "33.  INA:  4.71\n",
      "34.  Iraq:  4.64\n",
      "35.  Jakarta:  4.58\n",
      "36.  ECUADOR:  4.56\n",
      "37.  IRAQ:  4.55\n",
      "38.  Algeria:  4.52\n",
      "39.  NORWAY:  4.48\n",
      "40.  Geneva:  4.43\n",
      "41.  Sulphur:  4.42\n",
      "42.  L.F.:  4.42\n",
      "43.  Bethesda:  4.42\n",
      "44.  Easter:  4.42\n",
      "45.  PGRT:  4.42\n",
      "46.  Aguarico:  4.42\n",
      "47.  Ecaudor:  4.42\n",
      "48.  Ju'aymah:  4.42\n",
      "49.  DISCUSSION:  4.42\n",
      "50.  Caracas:  4.37\n"
     ]
    }
   ],
   "source": [
    "import math\n",
    "\n",
    "np.set_printoptions(precision=5, suppress=True)\n",
    "co_occ_table = Counter()\n",
    "\n",
    "opec_doc_lst = []\n",
    "for doc in reuters_nlp:\n",
    "    for token in doc:\n",
    "        if token.orth_ == 'OPEC':\n",
    "            opec_doc_lst.append(doc)\n",
    "            \n",
    "# creating the co-occurrence table\n",
    "for doc in opec_doc_lst:\n",
    "    track_doc_tokens = []\n",
    "    for token in doc:\n",
    "        if (token.ent_type_ == 'GPE') and (token.lemma_ != 'opec') and (token.orth_ not in track_doc_tokens):\n",
    "            text = token.orth_\n",
    "            co_occ_table[text] += 1\n",
    "            track_doc_tokens.append(text)\n",
    "\n",
    "# calculating P(A,B) - the probability of the gpe entity and 'OPEC' occurring together among all documents with 'OPEC'\n",
    "joint_prob_table = [[x, round(count / sum(co_occ_table.values()), 6)] for x, count in co_occ_table.items()]\n",
    "\n",
    "# P('OPEC')\n",
    "p_opec = len(opec_doc_lst) / len(reuters_nlp)\n",
    "\n",
    "# P(gpe)\n",
    "indep_prob_table = [[x, round(count / len(reuters_nlp), 6)] for x, count in gpe_word_counter.items()]\n",
    "\n",
    "# P('OPEC')P(gpe)\n",
    "p_opec_by_p_gpe = [[x, round(count * p_opec, 6)] for x, count in indep_prob_table]\n",
    "\n",
    "\n",
    "# P('OPEC', gpe)/P('OPEC')P(gpe)\n",
    "for lst in joint_prob_table:\n",
    "    i = 0\n",
    "    for lst2 in p_opec_by_p_gpe:\n",
    "        if lst[0] in lst2:\n",
    "            lst[1] = math.log(lst[1] / lst2[1])\n",
    "\n",
    "sorted_joint_prob = sorted(joint_prob_table, key = lambda x: -x[1])\n",
    "\n",
    "i = 1\n",
    "print('\\nTop 50 GPE Entities with Highest PMI in Regard to ''OPEC'':\\n')\n",
    "for word, count in sorted_joint_prob[:50]:\n",
    "    print('{}.  {}:  {}'.format(i, word, round(count,2)))\n",
    "    i += 1"
   ]
  },
  {
   "cell_type": "markdown",
   "metadata": {},
   "source": [
    "Your text answer (for this question, your answer is *not* code): *** I was surprised to see values like Iceland on the list, since I wouldn't naturally think about iceland when I think about OPEC, or expect those two words to occur together frequently. However, based on the relatively high PMI score, which indicates that the probability of co-occurrence is lower than the probability of each word's independent occurrence, it seems that Iceland often occurs in the same documents as OPEC. Issues with PMI could be because PMI doesn't take into account the frequency of each word within a document, and so some words that should have a higher PMI aren't accounted for because they're only counted once (I have the GPE entities 'Saudi' and 'Arabia' in mind here). This would mean an underrepresentation of many words on this list. ***\n"
   ]
  },
  {
   "cell_type": "markdown",
   "metadata": {},
   "source": [
    "### [Problem 3] Questionnaire [5 pts]\n",
    "Please provide feedback! To receive the 5 points, be sure to enter your Andrew ID correctly in this Google form: https://goo.gl/forms/tGmCD8L9uI8zNbRG3"
   ]
  },
  {
   "cell_type": "code",
   "execution_count": 12,
   "metadata": {},
   "outputs": [],
   "source": [
    "# Submitted"
   ]
  }
 ],
 "metadata": {
  "anaconda-cloud": {},
  "kernelspec": {
   "display_name": "Python 3",
   "language": "python",
   "name": "python3"
  },
  "language_info": {
   "codemirror_mode": {
    "name": "ipython",
    "version": 3
   },
   "file_extension": ".py",
   "mimetype": "text/x-python",
   "name": "python",
   "nbconvert_exporter": "python",
   "pygments_lexer": "ipython3",
   "version": "3.7.1"
  }
 },
 "nbformat": 4,
 "nbformat_minor": 2
}
